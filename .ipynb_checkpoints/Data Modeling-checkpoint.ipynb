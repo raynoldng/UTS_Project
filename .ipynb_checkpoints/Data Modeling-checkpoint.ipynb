{
 "cells": [
  {
   "cell_type": "markdown",
   "metadata": {},
   "source": [
    "# Find Arrival Timings of Various Buses"
   ]
  },
  {
   "cell_type": "markdown",
   "metadata": {},
   "source": [
    "## Load Data\n",
    "\n",
    "For now experiment with one day of data: 2018-03-05 "
   ]
  },
  {
   "cell_type": "code",
   "execution_count": 5,
   "metadata": {},
   "outputs": [],
   "source": [
    "import folium\n",
    "import pandas as pd\n",
    "import json\n",
    "from math import *\n",
    "\n",
    "busLocationFile = \"Data/BusLocation/2018-03-05.csv\"\n",
    "busStopFile = \"Data/busstops.txt\""
   ]
  },
  {
   "cell_type": "code",
   "execution_count": 12,
   "metadata": {},
   "outputs": [
    {
     "data": {
      "text/html": [
       "<div style=\"width:100%;\"><div style=\"position:relative;width:100%;height:0;padding-bottom:60%;\"><iframe src=\"data:text/html;charset=utf-8;base64,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\" style=\"position:absolute;width:100%;height:100%;left:0;top:0;border:none !important;\" allowfullscreen webkitallowfullscreen mozallowfullscreen></iframe></div></div>"
      ],
      "text/plain": [
       "<folium.folium.Map at 0x7fde08777320>"
      ]
     },
     "execution_count": 12,
     "metadata": {},
     "output_type": "execute_result"
    }
   ],
   "source": [
    "m = folium.Map(location=[1.2966, 103.7764], width=750, height=500, zoom_start = 14)\n",
    "m"
   ]
  },
  {
   "cell_type": "code",
   "execution_count": 6,
   "metadata": {},
   "outputs": [
    {
     "name": "stdout",
     "output_type": "stream",
     "text": [
      "   node_id vehicle_serial                  gps_time  latitude  longitude  \\\n",
      "0     2025        PC3957P  2018-03-04T22:59:01.000Z  1.309950  103.77200   \n",
      "1     2026        PA9558D  2018-03-04T22:59:01.000Z  1.315100  103.69067   \n",
      "2     2031        PC3785T  2018-03-04T22:59:01.000Z  1.291883  103.78049   \n",
      "3     2043        PC4038K  2018-03-04T22:59:01.000Z  1.294683  103.77486   \n",
      "4     2054        PC3989Y  2018-03-04T22:59:01.000Z  1.294500  103.77513   \n",
      "\n",
      "   altitude  speed  heading  \n",
      "0        28     14   192.07  \n",
      "1        25      0    77.53  \n",
      "2        70      0   139.86  \n",
      "3        37      0   329.73  \n",
      "4        48      0   290.10  \n"
     ]
    }
   ],
   "source": [
    "df = pd.read_csv(busLocationFile)\n",
    "print(df.head())"
   ]
  },
  {
   "cell_type": "code",
   "execution_count": 7,
   "metadata": {},
   "outputs": [],
   "source": [
    "# get unique bus\n",
    "df_id = df['node_id']\n",
    "buses = set()\n",
    "for busId in df_id:\n",
    "    buses.add(busId)\n",
    "buses = list(buses)"
   ]
  },
  {
   "cell_type": "code",
   "execution_count": 8,
   "metadata": {},
   "outputs": [
    {
     "name": "stdout",
     "output_type": "stream",
     "text": [
      "[2048, 2054, 2055, 2058, 2060, 2062, 2063, 2068, 2077, 2078, 2079, 2129, 2024, 2025, 2026, 2027, 2029, 2031, 2032, 2033, 2038, 2042, 2043, 2047]\n"
     ]
    }
   ],
   "source": [
    "print(buses)"
   ]
  },
  {
   "cell_type": "code",
   "execution_count": 9,
   "metadata": {},
   "outputs": [
    {
     "name": "stdout",
     "output_type": "stream",
     "text": [
      "       node_id vehicle_serial                  gps_time  latitude  longitude  \\\n",
      "10143     2048        PC4019R  2018-03-05T13:34:01.000Z  1.296467  103.78330   \n",
      "10156     2048        PC4019R  2018-03-05T13:34:02.000Z  1.296533  103.78325   \n",
      "10169     2048        PC4019R  2018-03-05T13:34:03.000Z  1.296583  103.78318   \n",
      "10182     2048        PC4019R  2018-03-05T13:34:04.000Z  1.296633  103.78312   \n",
      "10195     2048        PC4019R  2018-03-05T13:34:05.000Z  1.296667  103.78308   \n",
      "\n",
      "       altitude  speed  heading  \n",
      "10143        39     34   307.96  \n",
      "10156        41     32   306.98  \n",
      "10169        42     30   305.21  \n",
      "10182        42     26   305.44  \n",
      "10195        42     21   304.02  \n"
     ]
    }
   ],
   "source": [
    "df_2048 = df[df['node_id'] == 2048]\n",
    "print(df_2048.head())"
   ]
  },
  {
   "cell_type": "code",
   "execution_count": 10,
   "metadata": {},
   "outputs": [
    {
     "ename": "NameError",
     "evalue": "name 'm' is not defined",
     "output_type": "error",
     "traceback": [
      "\u001b[0;31m---------------------------------------------------------------------------\u001b[0m",
      "\u001b[0;31mNameError\u001b[0m                                 Traceback (most recent call last)",
      "\u001b[0;32m<ipython-input-10-13e61fefef65>\u001b[0m in \u001b[0;36m<module>\u001b[0;34m()\u001b[0m\n\u001b[1;32m      2\u001b[0m \u001b[0;32mfor\u001b[0m \u001b[0midx\u001b[0m\u001b[0;34m,\u001b[0m \u001b[0mrow\u001b[0m \u001b[0;32min\u001b[0m \u001b[0mdf_2048\u001b[0m\u001b[0;34m.\u001b[0m\u001b[0miterrows\u001b[0m\u001b[0;34m(\u001b[0m\u001b[0;34m)\u001b[0m\u001b[0;34m:\u001b[0m\u001b[0;34m\u001b[0m\u001b[0m\n\u001b[1;32m      3\u001b[0m \u001b[0;31m#     print(\"added\", row['latitude'], row['longitude'])\u001b[0m\u001b[0;34m\u001b[0m\u001b[0;34m\u001b[0m\u001b[0m\n\u001b[0;32m----> 4\u001b[0;31m     \u001b[0mfolium\u001b[0m\u001b[0;34m.\u001b[0m\u001b[0mMarker\u001b[0m\u001b[0;34m(\u001b[0m\u001b[0;34m[\u001b[0m\u001b[0mrow\u001b[0m\u001b[0;34m[\u001b[0m\u001b[0;34m'latitude'\u001b[0m\u001b[0;34m]\u001b[0m\u001b[0;34m,\u001b[0m \u001b[0mrow\u001b[0m\u001b[0;34m[\u001b[0m\u001b[0;34m'longitude'\u001b[0m\u001b[0;34m]\u001b[0m\u001b[0;34m]\u001b[0m\u001b[0;34m)\u001b[0m\u001b[0;34m.\u001b[0m\u001b[0madd_to\u001b[0m\u001b[0;34m(\u001b[0m\u001b[0mm\u001b[0m\u001b[0;34m)\u001b[0m\u001b[0;34m\u001b[0m\u001b[0m\n\u001b[0m",
      "\u001b[0;31mNameError\u001b[0m: name 'm' is not defined"
     ]
    }
   ],
   "source": [
    "# plot data for this bus\n",
    "for idx, row in df_2048.iterrows():\n",
    "#     print(\"added\", row['latitude'], row['longitude'])\n",
    "    folium.Marker([row['latitude'], row['longitude']]).add_to(m)"
   ]
  },
  {
   "cell_type": "code",
   "execution_count": 11,
   "metadata": {},
   "outputs": [],
   "source": [
    "# load bus stop geolocation data\n",
    "busStopData = json.load(open(busStopFile))"
   ]
  },
  {
   "cell_type": "code",
   "execution_count": 12,
   "metadata": {},
   "outputs": [],
   "source": [
    "busStopLocations = {}\n",
    "for d in busStopData:\n",
    "    busStopLocations[d['name']] = (d['lat'], d['long'])"
   ]
  },
  {
   "cell_type": "code",
   "execution_count": 13,
   "metadata": {},
   "outputs": [
    {
     "name": "stdout",
     "output_type": "stream",
     "text": [
      "{'University Town': (1.30359, 103.77444), 'Museum': (1.30108, 103.7737), 'Raffles Hall': (1.30098, 103.7727), 'Opp. Yusof Ishak House': (1.299, 103.77412), 'Yusof Ishak House': (1.2989, 103.77438), 'University Health Centre': (1.29891, 103.77612), 'Opp. University Hall': (1.2976, 103.77814), 'Block S17': (1.29753, 103.78058), 'Opp. NUH': (1.29681, 103.78315), 'Computer Centre': (1.29738, 103.77285), 'Central Library': (1.29657, 103.77254), 'Ventus (Opp. LT13)': (1.2954, 103.77062), 'Temasek Hall': (1.29312, 103.77133), 'COM2': (1.2943, 103.7738), 'AS7': (1.29367, 103.77178), 'Eusoff Hall': (1.29389, 103.7704), 'PGP Terminal': (1.29192, 103.78055), 'After Science Park Drive': (1.29255, 103.78449), 'KR MRT Station': (1.29373, 103.78489), 'NUH': (1.29631, 103.78346), 'LT29': (1.29738, 103.78104), 'BIZ2': (1.29338, 103.7752), 'Opp. University Health Centre': (1.29879, 103.77562), 'University Hall': (1.29743, 103.77791), 'LT13': (1.29475, 103.77069), 'House 7': (1.29328, 103.77782), 'Between House 14 & 15': (1.29308, 103.77799), 'House 12': (1.29361, 103.77708), 'Opp. Hon Sui Sen Memorial Library': (1.29297, 103.77518), 'The Japanese Primary School': (1.30073, 103.76987), 'Unknown': (1.30093, 103.89231), 'Opp. Block EA': (1.3006, 103.77017), 'Opp. KR MRT Station': (1.29384, 103.78504), 'Opp. House 12': (1.29368, 103.77713), 'Kent Ridge Terminal': (1.29416, 103.76972)}\n"
     ]
    }
   ],
   "source": [
    "print(busStopLocations)"
   ]
  },
  {
   "cell_type": "code",
   "execution_count": 14,
   "metadata": {},
   "outputs": [],
   "source": [
    "def dist(lat1, lon1, lat2, lon2):\n",
    "    '''\n",
    "    returns distance in meters\n",
    "    '''\n",
    "    R = 6373.0\n",
    "    lat1 = radians(lat1)\n",
    "    lon1 = radians(lon1)\n",
    "    lat2 = radians(lat2)\n",
    "    lon2 = radians(lon2)\n",
    "\n",
    "    dlon = lon2 - lon1\n",
    "    dlat = lat2 - lat1\n",
    "\n",
    "    a = sin(dlat / 2)**2 + cos(lat1) * cos(lat2) * sin(dlon / 2)**2\n",
    "    c = 2 * atan2(sqrt(a), sqrt(1 - a))\n",
    "\n",
    "    distance = R * c * 1000\n",
    "    return distance\n",
    "\n",
    "def near(locA, locB):\n",
    "    EPS = 10\n",
    "    return abs(dist(locA[0], locA[1], locB[0], locB[1])) < EPS\n",
    "    \n",
    "    "
   ]
  },
  {
   "cell_type": "code",
   "execution_count": 15,
   "metadata": {},
   "outputs": [],
   "source": [
    "def nearestBusStop(lat, long):\n",
    "    for stop, loc in busStopLocations.items():\n",
    "        if(near(loc, (lat, long))):\n",
    "            return stop\n",
    "    return None"
   ]
  },
  {
   "cell_type": "code",
   "execution_count": 16,
   "metadata": {},
   "outputs": [],
   "source": [
    "for idx, row in df_2048.iterrows():\n",
    "    nearestBusStop(row['latitude'], row['longitude'])"
   ]
  },
  {
   "cell_type": "code",
   "execution_count": 17,
   "metadata": {},
   "outputs": [],
   "source": [
    "def arrivalTimes(df):\n",
    "    times = [] # (bus stop, arrival time, depature time)\n",
    "    isWaitingDepart = False\n",
    "    for idx, row in df.iterrows():\n",
    "        busstop = nearestBusStop(row['latitude'], row['longitude'])\n",
    "        if busstop:\n",
    "            # Entering\n",
    "            if len(times) == 0 or times[-1][0] != busstop:\n",
    "                times.append([busstop, row['gps_time'], None])\n",
    "        elif len(times) and times[-1][-1] is None:\n",
    "            # Leaving\n",
    "            times[-1][-1] = row['gps_time']\n",
    "    return times\n",
    "    "
   ]
  },
  {
   "cell_type": "code",
   "execution_count": 18,
   "metadata": {},
   "outputs": [
    {
     "data": {
      "text/plain": [
       "[['LT29', '2018-03-05T13:34:44.000Z', '2018-03-05T13:35:08.000Z'],\n",
       " ['University Hall', '2018-03-05T13:36:31.000Z', '2018-03-05T13:36:34.000Z'],\n",
       " ['Computer Centre', '2018-03-05T13:39:23.000Z', '2018-03-05T13:39:25.000Z'],\n",
       " ['Central Library', '2018-03-05T13:39:40.000Z', '2018-03-05T13:39:44.000Z'],\n",
       " ['LT13', '2018-03-05T13:41:10.000Z', '2018-03-05T13:41:29.000Z'],\n",
       " ['COM2', '2018-03-05T13:43:31.000Z', '2018-03-05T13:44:01.000Z'],\n",
       " ['BIZ2', '2018-03-05T13:46:08.000Z', '2018-03-05T13:46:22.000Z'],\n",
       " ['House 12', '2018-03-05T13:46:58.000Z', '2018-03-05T14:10:01.000Z'],\n",
       " ['COM2', '2018-03-05T14:11:02.000Z', '2018-03-05T14:11:17.000Z'],\n",
       " ['BIZ2', '2018-03-05T14:13:36.000Z', '2018-03-05T14:14:01.000Z'],\n",
       " ['House 12', '2018-03-05T14:14:27.000Z', '2018-03-05T14:14:29.000Z'],\n",
       " ['Between House 14 & 15',\n",
       "  '2018-03-05T14:14:39.000Z',\n",
       "  '2018-03-05T14:14:40.000Z'],\n",
       " ['PGP Terminal', '2018-03-05T14:15:17.000Z', '2018-03-05T14:15:20.000Z'],\n",
       " ['After Science Park Drive',\n",
       "  '2018-03-05T14:31:14.000Z',\n",
       "  '2018-03-05T14:31:16.000Z'],\n",
       " ['Opp. KR MRT Station',\n",
       "  '2018-03-05T14:31:37.000Z',\n",
       "  '2018-03-05T14:31:38.000Z'],\n",
       " ['LT29', '2018-03-05T14:33:27.000Z', '2018-03-05T14:33:31.000Z'],\n",
       " ['University Hall', '2018-03-05T14:34:44.000Z', '2018-03-05T14:35:01.000Z'],\n",
       " ['University Health Centre',\n",
       "  '2018-03-05T14:35:14.000Z',\n",
       "  '2018-03-05T14:35:15.000Z'],\n",
       " ['Opp. University Health Centre',\n",
       "  '2018-03-05T14:35:22.000Z',\n",
       "  '2018-03-05T14:35:41.000Z'],\n",
       " ['Yusof Ishak House', '2018-03-05T14:36:08.000Z', '2018-03-05T14:36:23.000Z'],\n",
       " ['Computer Centre', '2018-03-05T14:36:54.000Z', '2018-03-05T14:36:56.000Z'],\n",
       " ['Central Library', '2018-03-05T14:37:08.000Z', '2018-03-05T14:37:11.000Z'],\n",
       " ['Ventus (Opp. LT13)',\n",
       "  '2018-03-05T14:38:05.000Z',\n",
       "  '2018-03-05T14:38:07.000Z'],\n",
       " ['COM2', '2018-03-05T14:40:32.000Z', '2018-03-05T14:41:01.000Z'],\n",
       " ['BIZ2', '2018-03-05T14:43:11.000Z', '2018-03-05T14:43:29.000Z'],\n",
       " ['House 12', '2018-03-05T14:44:02.000Z', '2018-03-05T14:44:05.000Z'],\n",
       " ['Between House 14 & 15',\n",
       "  '2018-03-05T14:44:15.000Z',\n",
       "  '2018-03-05T14:44:16.000Z'],\n",
       " ['PGP Terminal', '2018-03-05T14:45:01.000Z', '2018-03-05T14:49:01.000Z']]"
      ]
     },
     "execution_count": 18,
     "metadata": {},
     "output_type": "execute_result"
    }
   ],
   "source": [
    "arrivalTimes2048 = arrivalTimes(df_2048)\n",
    "arrivalTimes2048"
   ]
  },
  {
   "cell_type": "code",
   "execution_count": 19,
   "metadata": {},
   "outputs": [],
   "source": [
    "# Plot Arrival Timings on the map\n",
    "m = folium.Map(location=[1.2966, 103.7764], width=750, height=500, zoom_start = 14)"
   ]
  },
  {
   "cell_type": "code",
   "execution_count": 20,
   "metadata": {},
   "outputs": [],
   "source": [
    "for timings in arrivalTimes2048:\n",
    "    busstop, start, end = timings\n",
    "    long, lat = busStopLocations[busstop]\n",
    "    folium.Marker([long, lat], popup = busstop).add_to(m)"
   ]
  },
  {
   "cell_type": "code",
   "execution_count": 21,
   "metadata": {},
   "outputs": [],
   "source": [
    "points = []\n",
    "for timings in arrivalTimes2048:\n",
    "    busstop, start, end = timings\n",
    "    long, lat = busStopLocations[busstop]\n",
    "    points.append([long, lat])\n",
    "\n",
    "    \n",
    "from colour import Color\n",
    "red = Color(\"red\")\n",
    "colors = list(red.range_to(Color(\"green\"),len(points)))\n",
    "colors = [c.hex for c in colors]\n",
    "\n",
    "for p, c in zip(points, colors):\n",
    "    folium.Circle([p[0], p[1]], color = c ).add_to(m)\n"
   ]
  },
  {
   "cell_type": "code",
   "execution_count": 22,
   "metadata": {},
   "outputs": [
    {
     "ename": "AttributeError",
     "evalue": "module 'folium' has no attribute 'ColorLinePolyLine'",
     "output_type": "error",
     "traceback": [
      "\u001b[0;31m---------------------------------------------------------------------------\u001b[0m",
      "\u001b[0;31mAttributeError\u001b[0m                            Traceback (most recent call last)",
      "\u001b[0;32m<ipython-input-22-3a0c41fe3a9b>\u001b[0m in \u001b[0;36m<module>\u001b[0;34m()\u001b[0m\n\u001b[0;32m----> 1\u001b[0;31m \u001b[0mfolium\u001b[0m\u001b[0;34m.\u001b[0m\u001b[0mColorLinePolyLine\u001b[0m\u001b[0;34m(\u001b[0m\u001b[0mpoints\u001b[0m\u001b[0;34m)\u001b[0m\u001b[0;34m.\u001b[0m\u001b[0madd_to\u001b[0m\u001b[0;34m(\u001b[0m\u001b[0mm\u001b[0m\u001b[0;34m)\u001b[0m\u001b[0;34m\u001b[0m\u001b[0m\n\u001b[0m",
      "\u001b[0;31mAttributeError\u001b[0m: module 'folium' has no attribute 'ColorLinePolyLine'"
     ]
    }
   ],
   "source": [
    "folium.ColorLinePolyLine(points).add_to(m)"
   ]
  },
  {
   "cell_type": "code",
   "execution_count": 131,
   "metadata": {},
   "outputs": [
    {
     "data": {
      "text/html": [
       "<div style=\"width:100%;\"><div style=\"position:relative;width:100%;height:0;padding-bottom:60%;\"><iframe src=\"data:text/html;charset=utf-8;base64,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\" style=\"position:absolute;width:100%;height:100%;left:0;top:0;border:none !important;\" allowfullscreen webkitallowfullscreen mozallowfullscreen></iframe></div></div>"
      ],
      "text/plain": [
       "<folium.folium.Map at 0x7fde04f62b70>"
      ]
     },
     "execution_count": 131,
     "metadata": {},
     "output_type": "execute_result"
    }
   ],
   "source": [
    "m"
   ]
  },
  {
   "cell_type": "markdown",
   "metadata": {},
   "source": [
    "# Classify all buses"
   ]
  },
  {
   "cell_type": "code",
   "execution_count": 26,
   "metadata": {},
   "outputs": [],
   "source": [
    "arrivalTimesofBuses = {b: arrivalTimes(df[df['node_id']==b]) for b in buses}"
   ]
  },
  {
   "cell_type": "code",
   "execution_count": 28,
   "metadata": {},
   "outputs": [
    {
     "data": {
      "text/plain": [
       "[['LT29', '2018-03-05T13:34:44.000Z', '2018-03-05T13:35:08.000Z'],\n",
       " ['University Hall', '2018-03-05T13:36:31.000Z', '2018-03-05T13:36:34.000Z'],\n",
       " ['Computer Centre', '2018-03-05T13:39:23.000Z', '2018-03-05T13:39:25.000Z'],\n",
       " ['Central Library', '2018-03-05T13:39:40.000Z', '2018-03-05T13:39:44.000Z'],\n",
       " ['LT13', '2018-03-05T13:41:10.000Z', '2018-03-05T13:41:29.000Z'],\n",
       " ['COM2', '2018-03-05T13:43:31.000Z', '2018-03-05T13:44:01.000Z'],\n",
       " ['BIZ2', '2018-03-05T13:46:08.000Z', '2018-03-05T13:46:22.000Z'],\n",
       " ['House 12', '2018-03-05T13:46:58.000Z', '2018-03-05T14:10:01.000Z'],\n",
       " ['COM2', '2018-03-05T14:11:02.000Z', '2018-03-05T14:11:17.000Z'],\n",
       " ['BIZ2', '2018-03-05T14:13:36.000Z', '2018-03-05T14:14:01.000Z'],\n",
       " ['House 12', '2018-03-05T14:14:27.000Z', '2018-03-05T14:14:29.000Z'],\n",
       " ['Between House 14 & 15',\n",
       "  '2018-03-05T14:14:39.000Z',\n",
       "  '2018-03-05T14:14:40.000Z'],\n",
       " ['PGP Terminal', '2018-03-05T14:15:17.000Z', '2018-03-05T14:15:20.000Z'],\n",
       " ['After Science Park Drive',\n",
       "  '2018-03-05T14:31:14.000Z',\n",
       "  '2018-03-05T14:31:16.000Z'],\n",
       " ['Opp. KR MRT Station',\n",
       "  '2018-03-05T14:31:37.000Z',\n",
       "  '2018-03-05T14:31:38.000Z'],\n",
       " ['LT29', '2018-03-05T14:33:27.000Z', '2018-03-05T14:33:31.000Z'],\n",
       " ['University Hall', '2018-03-05T14:34:44.000Z', '2018-03-05T14:35:01.000Z'],\n",
       " ['University Health Centre',\n",
       "  '2018-03-05T14:35:14.000Z',\n",
       "  '2018-03-05T14:35:15.000Z'],\n",
       " ['Opp. University Health Centre',\n",
       "  '2018-03-05T14:35:22.000Z',\n",
       "  '2018-03-05T14:35:41.000Z'],\n",
       " ['Yusof Ishak House', '2018-03-05T14:36:08.000Z', '2018-03-05T14:36:23.000Z'],\n",
       " ['Computer Centre', '2018-03-05T14:36:54.000Z', '2018-03-05T14:36:56.000Z'],\n",
       " ['Central Library', '2018-03-05T14:37:08.000Z', '2018-03-05T14:37:11.000Z'],\n",
       " ['Ventus (Opp. LT13)',\n",
       "  '2018-03-05T14:38:05.000Z',\n",
       "  '2018-03-05T14:38:07.000Z'],\n",
       " ['COM2', '2018-03-05T14:40:32.000Z', '2018-03-05T14:41:01.000Z'],\n",
       " ['BIZ2', '2018-03-05T14:43:11.000Z', '2018-03-05T14:43:29.000Z'],\n",
       " ['House 12', '2018-03-05T14:44:02.000Z', '2018-03-05T14:44:05.000Z'],\n",
       " ['Between House 14 & 15',\n",
       "  '2018-03-05T14:44:15.000Z',\n",
       "  '2018-03-05T14:44:16.000Z'],\n",
       " ['PGP Terminal', '2018-03-05T14:45:01.000Z', '2018-03-05T14:49:01.000Z']]"
      ]
     },
     "execution_count": 28,
     "metadata": {},
     "output_type": "execute_result"
    }
   ],
   "source": [
    "arrivalTimesofBuses[2048]"
   ]
  },
  {
   "cell_type": "code",
   "execution_count": 20,
   "metadata": {},
   "outputs": [
    {
     "data": {
      "text/plain": [
       "16"
      ]
     },
     "execution_count": 20,
     "metadata": {},
     "output_type": "execute_result"
    }
   ],
   "source": [
    "# filter out empty buses\n",
    "arrivalTimesofBuses = {k:v for k,v in arrivalTimesofBuses.items() if len(v)}\n",
    "len(arrivalTimesofBuses)"
   ]
  },
  {
   "cell_type": "markdown",
   "metadata": {},
   "source": [
    "| Bus   | Service|\n",
    "|-------|--------|\n",
    "| 2048  |  A2/A1 |\t\n",
    "| 2055  | \t\t |\t\t\n",
    "| 2058  | \t\t |\t\n",
    "| 2060  | \t\t |\t\n",
    "| 2063  | \tD2\t |\t\t\n",
    "| 2068  | \tD2\t |\t\t\n",
    "| 2078  | \tD2\t |\t\t\n",
    "| 2079  | \t\t |\t\t\n",
    "| 2129  | \tA1\t |\t\t\t\n",
    "| 2025  | \tB2\t |\t\n",
    "| 2026  | \tB1\t |\t\t\t\n",
    "| 2027  | \tD1\t |\t\t\n",
    "| 2031  | \tDEAD |\t\t\n",
    "| 2033  | \tA2\t |\t\t\n",
    "| 2038  | \tA2\t |\t\t\n",
    "| 2042  | \tA2\t |\t\t\n"
   ]
  },
  {
   "cell_type": "code",
   "execution_count": 33,
   "metadata": {},
   "outputs": [],
   "source": [
    "spots = list(busStopLocations.keys())"
   ]
  },
  {
   "cell_type": "code",
   "execution_count": 34,
   "metadata": {},
   "outputs": [
    {
     "data": {
      "text/plain": [
       "['University Town',\n",
       " 'Museum',\n",
       " 'Raffles Hall',\n",
       " 'Opp. Yusof Ishak House',\n",
       " 'Yusof Ishak House',\n",
       " 'University Health Centre',\n",
       " 'Opp. University Hall',\n",
       " 'Block S17',\n",
       " 'Opp. NUH',\n",
       " 'Computer Centre',\n",
       " 'Central Library',\n",
       " 'Ventus (Opp. LT13)',\n",
       " 'Temasek Hall',\n",
       " 'COM2',\n",
       " 'AS7',\n",
       " 'Eusoff Hall',\n",
       " 'PGP Terminal',\n",
       " 'After Science Park Drive',\n",
       " 'KR MRT Station',\n",
       " 'NUH',\n",
       " 'LT29',\n",
       " 'BIZ2',\n",
       " 'Opp. University Health Centre',\n",
       " 'University Hall',\n",
       " 'LT13',\n",
       " 'House 7',\n",
       " 'Between House 14 & 15',\n",
       " 'House 12',\n",
       " 'Opp. Hon Sui Sen Memorial Library',\n",
       " 'The Japanese Primary School',\n",
       " 'Unknown',\n",
       " 'Opp. Block EA',\n",
       " 'Opp. KR MRT Station',\n",
       " 'Opp. House 12',\n",
       " 'Kent Ridge Terminal']"
      ]
     },
     "execution_count": 34,
     "metadata": {},
     "output_type": "execute_result"
    }
   ],
   "source": [
    "spots"
   ]
  },
  {
   "cell_type": "code",
   "execution_count": 29,
   "metadata": {},
   "outputs": [],
   "source": [
    "A1 = set(['PGP Terminal', 'KR MRT Station', 'LT29', 'University Hall', 'Opp. University Health Centre', 'Yusof Ishak House', 'Central Library', 'LT13', 'AS7', 'Opp. Hon Sui Sen Memorial Library', 'BIZ2', 'Opp. House 12', 'House 7'])\n",
    "A1E= set(['KR MRT Station', 'LT29', 'Central Library', 'BIZ2', 'PGP Terminal'])\n",
    "A2 = set(['PGP Terminal', 'Opp. Hon Sui Sen Memorial Library', 'COM2', 'Ventus (Opp. LT13)', 'Computer Centre', 'Opp. Yusof Ishak House', 'Museum', 'University Health Centre', 'Opp. University Hall', 'Opp. KR MRT Station'])\n",
    "B1 = set(['Kent Ridge Terminal','Computer Centre', 'Opp. Yusof Ishak House', 'University Town', 'Yusof Ishak House', 'Central Library', 'LT13', 'AS7', 'BIZ2'])\n",
    "B2 = set(['Opp. Hon Sui Sen Memorial Library', 'Ventus (Opp. LT13)', 'Computer Centre', 'Opp. Yusof Ishak House', 'University Town', 'Raffles Hall', 'Opp. Block EA', 'Kent Ridge Terminal'])\n",
    "C = set(['Kent Ridge Terminal''Computer Centre', 'Opp. Yusof Ishak House', 'Museum', 'University Health Centre', 'Opp. University Hall', 'Block S17', 'LT29', 'University Hall', 'Raffles Hall', 'Opp. Block EA'])\n",
    "D1 = set(['Opp. Hon Sui Sen Memorial Library', 'COM2', 'Ventus (Opp. LT13)', 'Computer Centre', 'Opp. Yusof Ishak House', 'Museum', 'University Town', 'Yusof Ishak House', 'Central Library', 'LT13', 'AS7', 'BIZ2'])\n",
    "D2 = set(['PGP Terminal', 'KR MRT Station', 'LT29', 'University Hall', 'Opp. University Health Centre', 'Museum', 'University Town', 'University Health Centre', 'Opp. University Hall', 'Block S17', 'Opp. KR MRT Station', 'BIZ2'])"
   ]
  },
  {
   "cell_type": "code",
   "execution_count": 25,
   "metadata": {},
   "outputs": [],
   "source": [
    "services = {'A1':A1,'A1E':A1E,'A2':A2,'B1':B1,'B2':B2,'C':C,'D1':D1,'D2':D2}"
   ]
  },
  {
   "cell_type": "code",
   "execution_count": 33,
   "metadata": {},
   "outputs": [
    {
     "ename": "TypeError",
     "evalue": "unsupported operand type(s) for /: 'set' and 'int'",
     "output_type": "error",
     "traceback": [
      "\u001b[0;31m---------------------------------------------------------------------------\u001b[0m",
      "\u001b[0;31mTypeError\u001b[0m                                 Traceback (most recent call last)",
      "\u001b[0;32m<ipython-input-33-063e5fccefca>\u001b[0m in \u001b[0;36m<module>\u001b[0;34m()\u001b[0m\n\u001b[1;32m     20\u001b[0m \u001b[0;34m\u001b[0m\u001b[0m\n\u001b[1;32m     21\u001b[0m data = [[percentageCloseness(getStopsForBus(arrivalTimesofBuses, bus), services[s]) \n\u001b[0;32m---> 22\u001b[0;31m          for s in header] for bus in buses]\n\u001b[0m",
      "\u001b[0;32m<ipython-input-33-063e5fccefca>\u001b[0m in \u001b[0;36m<listcomp>\u001b[0;34m(.0)\u001b[0m\n\u001b[1;32m     20\u001b[0m \u001b[0;34m\u001b[0m\u001b[0m\n\u001b[1;32m     21\u001b[0m data = [[percentageCloseness(getStopsForBus(arrivalTimesofBuses, bus), services[s]) \n\u001b[0;32m---> 22\u001b[0;31m          for s in header] for bus in buses]\n\u001b[0m",
      "\u001b[0;32m<ipython-input-33-063e5fccefca>\u001b[0m in \u001b[0;36m<listcomp>\u001b[0;34m(.0)\u001b[0m\n\u001b[1;32m     20\u001b[0m \u001b[0;34m\u001b[0m\u001b[0m\n\u001b[1;32m     21\u001b[0m data = [[percentageCloseness(getStopsForBus(arrivalTimesofBuses, bus), services[s]) \n\u001b[0;32m---> 22\u001b[0;31m          for s in header] for bus in buses]\n\u001b[0m",
      "\u001b[0;32m<ipython-input-33-063e5fccefca>\u001b[0m in \u001b[0;36mpercentageCloseness\u001b[0;34m(stops, service)\u001b[0m\n\u001b[1;32m     16\u001b[0m     \u001b[0mreturns\u001b[0m\u001b[0;34m:\u001b[0m \u001b[0mintersect\u001b[0m\u001b[0;34m(\u001b[0m\u001b[0mstops\u001b[0m\u001b[0;34m,\u001b[0m\u001b[0mservice\u001b[0m\u001b[0;34m)\u001b[0m\u001b[0;34m/\u001b[0m\u001b[0mservice\u001b[0m\u001b[0;34m*\u001b[0m\u001b[0;36m100\u001b[0m\u001b[0;34m\u001b[0m\u001b[0m\n\u001b[1;32m     17\u001b[0m     '''\n\u001b[0;32m---> 18\u001b[0;31m     \u001b[0;32mreturn\u001b[0m \u001b[0mstops\u001b[0m\u001b[0;34m.\u001b[0m\u001b[0mintersection\u001b[0m\u001b[0;34m(\u001b[0m\u001b[0mservice\u001b[0m\u001b[0;34m)\u001b[0m\u001b[0;34m/\u001b[0m\u001b[0mlen\u001b[0m\u001b[0;34m(\u001b[0m\u001b[0mservice\u001b[0m\u001b[0;34m)\u001b[0m\u001b[0;34m*\u001b[0m\u001b[0;36m100\u001b[0m\u001b[0;34m\u001b[0m\u001b[0m\n\u001b[0m\u001b[1;32m     19\u001b[0m \u001b[0;34m\u001b[0m\u001b[0m\n\u001b[1;32m     20\u001b[0m \u001b[0;34m\u001b[0m\u001b[0m\n",
      "\u001b[0;31mTypeError\u001b[0m: unsupported operand type(s) for /: 'set' and 'int'"
     ]
    }
   ],
   "source": [
    "import plotly.plotly as py\n",
    "import plotly.graph_objs as go\n",
    "\n",
    "header = list(services.keys())\n",
    "rows = buses\n",
    "\n",
    "def getStopsForBus(arrivalTimesofBuses, bus):\n",
    "    '''\n",
    "    returns set of bus stops that bus passes through\n",
    "    '''\n",
    "    return set([tup[0] for tup in arrivalTimesofBuses[bus]])\n",
    "\n",
    "def percentageCloseness(stops, service):\n",
    "    '''\n",
    "    input: both sets of bus stops\n",
    "    returns: intersect(stops,service)/service*100\n",
    "    '''\n",
    "    return len(stops.intersection(service))/len(service)*100\n",
    "    \n",
    "    \n",
    "data = [[percentageCloseness(getStopsForBus(arrivalTimesofBuses, bus), services[s]) \n",
    "         for s in header] for bus in buses]\n"
   ]
  },
  {
   "cell_type": "code",
   "execution_count": null,
   "metadata": {},
   "outputs": [],
   "source": []
  }
 ],
 "metadata": {
  "kernelspec": {
   "display_name": "Python 3",
   "language": "python",
   "name": "python3"
  },
  "language_info": {
   "codemirror_mode": {
    "name": "ipython",
    "version": 3
   },
   "file_extension": ".py",
   "mimetype": "text/x-python",
   "name": "python",
   "nbconvert_exporter": "python",
   "pygments_lexer": "ipython3",
   "version": "3.6.4"
  }
 },
 "nbformat": 4,
 "nbformat_minor": 2
}
